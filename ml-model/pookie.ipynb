{
 "cells": [
  {
   "attachments": {},
   "cell_type": "markdown",
   "metadata": {},
   "source": [
    "Before we set up in any type of DB and make API calls.. we should decide on which model to use and see if we should use filtering and dropdown... because it'll be easier to ask the a model that can do simple requests such as \"look for when alain delon was 25 and under and making movies like this\" than to ask a user to prompt it and open the can of worms which is large language models (but maybe we can use llama-2 HHAHAHA)"
   ]
  },
  {
   "cell_type": "code",
   "execution_count": null,
   "metadata": {},
   "outputs": [],
   "source": []
  }
 ],
 "metadata": {
  "language_info": {
   "name": "python"
  },
  "orig_nbformat": 4
 },
 "nbformat": 4,
 "nbformat_minor": 2
}
